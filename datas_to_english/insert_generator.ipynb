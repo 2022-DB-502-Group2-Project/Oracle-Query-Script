{
 "cells": [
  {
   "cell_type": "code",
   "execution_count": 1,
   "id": "7f6e2908",
   "metadata": {},
   "outputs": [],
   "source": [
    "import pandas as pd\n",
    "import os\n",
    "from typing import MutableSequence, Any"
   ]
  },
  {
   "cell_type": "code",
   "execution_count": 2,
   "id": "82e50daa",
   "metadata": {},
   "outputs": [
    {
     "name": "stdout",
     "output_type": "stream",
     "text": [
      "stadium_information.xlsx\n",
      "kleague_player_information_renew.xlsx\n",
      "kleague_player_league_history_renew.xlsx\n",
      "previous_league_history_renew.xlsx\n",
      "team_information.xlsx\n"
     ]
    }
   ],
   "source": [
    "print(*list(filter(lambda x: x.endswith('.xlsx'),os.listdir())),sep=\"\\n\")"
   ]
  },
  {
   "cell_type": "markdown",
   "id": "967b9ed4",
   "metadata": {},
   "source": [
    "## Make an textfile for generating inserts"
   ]
  },
  {
   "cell_type": "code",
   "execution_count": 3,
   "id": "0e57a6ad",
   "metadata": {},
   "outputs": [],
   "source": [
    "# Default file name for inserts to be saved\n",
    "INSERTS_FILE_NAME = \"inserts.txt\"\n",
    "QUERIES = []"
   ]
  },
  {
   "cell_type": "code",
   "execution_count": 4,
   "id": "f3d3403b",
   "metadata": {},
   "outputs": [],
   "source": [
    "# If file exist with inserts -> delete file and make file again\n",
    "# If not exist -> Make file\n",
    "if os.path.exists(INSERTS_FILE_NAME):\n",
    "    os.remove(INSERTS_FILE_NAME)\n",
    "\n",
    "# Make file and close file object\n",
    "file = open(INSERTS_FILE_NAME,'w')\n",
    "file.close()"
   ]
  },
  {
   "cell_type": "code",
   "execution_count": 5,
   "id": "25a65940",
   "metadata": {},
   "outputs": [],
   "source": [
    "def make_str_value(value) -> str:\n",
    "    return f\"'{str(value)}'\"\n",
    "    \n",
    "def insert_formatter(table_name,datas:MutableSequence,fields = None) -> str:\n",
    "    query = [\"INSERT\", \"INTO\"]\n",
    "    \n",
    "    # If type of data is string -> require to add ''\n",
    "    filtering_data_structures = list(map(lambda x: make_str_value(x),datas))\n",
    "    \n",
    "    # add table name to query\n",
    "    query.append(table_name)\n",
    "    \n",
    "    # If field list is empty  -> pass else -> make field query\n",
    "    query.append(f\"({','.join(fields)})\") if fields else True\n",
    "    \n",
    "    #. add VALUES to query\n",
    "    query.append(\"VALUES\")\n",
    "    query.append(f\"({','.join(filtering_data_structures)})\")\n",
    "    return ' '.join(query) + \";\\n\"\n",
    "\n",
    "def write_queries(message = None):\n",
    "    with open(INSERTS_FILE_NAME,'a') as file:\n",
    "        if message:\n",
    "            file.write(f\"--{message}\\n\")\n",
    "        query = \"\\n\".join(QUERIES)\n",
    "        file.writelines(QUERIES)\n",
    "        QUERIES.clear()"
   ]
  },
  {
   "cell_type": "markdown",
   "id": "ae34e88b",
   "metadata": {},
   "source": [
    "## Process : Player Information"
   ]
  },
  {
   "cell_type": "code",
   "execution_count": 6,
   "id": "db163356",
   "metadata": {},
   "outputs": [],
   "source": [
    "pi = pd.read_excel('kleague_player_information_renew.xlsx',index_col=0)\n",
    "pi_table_name = 'player_info'"
   ]
  },
  {
   "cell_type": "code",
   "execution_count": 7,
   "id": "46cef7af",
   "metadata": {},
   "outputs": [],
   "source": [
    "for i in pi.index:\n",
    "    datas = [\n",
    "        pi['id'][i],\n",
    "        pi['raname'][i],\n",
    "        pi['영문명'][i],\n",
    "        pi['국적'][i],\n",
    "        pi['teamid'][i],\n",
    "        pi['league_type'][i],\n",
    "        pi['포지션'][i],\n",
    "        pi['배번'][i],\n",
    "        pi['키'][i],\n",
    "        pi['몸무게'][i],\n",
    "        pi['생년월일'][i],\n",
    "        pi['player_image'][i]\n",
    "    ]\n",
    "    QUERIES.append(insert_formatter(pi_table_name,datas))\n",
    "\n",
    "# Save Queries to text file\n",
    "write_queries(\"Player Information\")"
   ]
  },
  {
   "cell_type": "markdown",
   "id": "a0073e43",
   "metadata": {},
   "source": [
    "## Process : Previous league -> Some ambigious part related to primary key exist, but lack of datas, we decided to set leaguename as primary key"
   ]
  },
  {
   "cell_type": "code",
   "execution_count": 8,
   "id": "98cf3f71",
   "metadata": {},
   "outputs": [],
   "source": [
    "pl = pd.read_excel(\"previous_league_history_renew.xlsx\",index_col=0)\n",
    "pl_table_name = 'previous_league'"
   ]
  },
  {
   "cell_type": "code",
   "execution_count": 9,
   "id": "b50a67f1",
   "metadata": {},
   "outputs": [],
   "source": [
    "for i in pl.index:\n",
    "    datas = [\n",
    "        pl['리그'][i],\n",
    "        pl['연도'][i]\n",
    "    ]\n",
    "    QUERIES.append(insert_formatter(pl_table_name,datas))\n",
    "    \n",
    "write_queries(\"Previous league history\")"
   ]
  },
  {
   "cell_type": "markdown",
   "id": "eb2e9e4e",
   "metadata": {},
   "source": [
    "## Process : Team Info"
   ]
  },
  {
   "cell_type": "code",
   "execution_count": 10,
   "id": "0e3ea189",
   "metadata": {},
   "outputs": [],
   "source": [
    "ti = pd.read_excel(\"team_information.xlsx\",index_col=0)\n",
    "ti_table_name = 'team_info'"
   ]
  },
  {
   "cell_type": "code",
   "execution_count": 11,
   "id": "442e12fe",
   "metadata": {},
   "outputs": [],
   "source": [
    "for i in ti.index:\n",
    "    datas = [\n",
    "        ti['teamid'][i],\n",
    "        ti['클럽'][i],\n",
    "        ti['리그'][i],\n",
    "        ti['경기'][i],\n",
    "        ti['승점'][i],\n",
    "        ti['승'][i],\n",
    "        ti['무'][i],\n",
    "        ti['패'][i],\n",
    "        ti['득점'][i],\n",
    "        ti['실점'][i],\n",
    "        ti['최근 홈 5경기'][i],\n",
    "        ti['image'][i]\n",
    "    ]\n",
    "    QUERIES.append(insert_formatter(ti_table_name,datas))\n",
    "\n",
    "write_queries(\"Team information\")"
   ]
  },
  {
   "cell_type": "markdown",
   "id": "dd87a950",
   "metadata": {},
   "source": [
    "## Process : Team Homeground"
   ]
  },
  {
   "cell_type": "code",
   "execution_count": 12,
   "id": "5977a6d7",
   "metadata": {},
   "outputs": [],
   "source": [
    "th = pd.read_excel(\"stadium_information.xlsx\",index_col=0)\n",
    "th_table_name = 'team_homeground'"
   ]
  },
  {
   "cell_type": "code",
   "execution_count": 13,
   "id": "b437577a",
   "metadata": {},
   "outputs": [],
   "source": [
    "for i in th.index:\n",
    "    datas = [\n",
    "        th['teamid'][i],\n",
    "        th['경기장'][i]\n",
    "    ]\n",
    "    QUERIES.append(insert_formatter(th_table_name,datas))\n",
    "    \n",
    "write_queries(\"Team homeground\")"
   ]
  },
  {
   "cell_type": "markdown",
   "id": "6a7f4700",
   "metadata": {},
   "source": [
    "## Process : Player league history"
   ]
  },
  {
   "cell_type": "code",
   "execution_count": 14,
   "id": "e776e6de",
   "metadata": {},
   "outputs": [],
   "source": [
    "plh = pd.read_excel('kleague_player_league_history_renew.xlsx',index_col=0)\n",
    "plh_table_name = 'player_prev_league'"
   ]
  },
  {
   "cell_type": "code",
   "execution_count": 15,
   "id": "3fc4ccda",
   "metadata": {},
   "outputs": [],
   "source": [
    "for i in plh.index:\n",
    "    datas = [\n",
    "        plh['id'][i],\n",
    "        plh['리그'][i],\n",
    "        plh['teamid'][i],\n",
    "        plh['출장'][i],\n",
    "        plh['득점'][i],\n",
    "        plh['도움'][i],\n",
    "        plh['골킥'][i],\n",
    "        plh['코너킥'][i],\n",
    "        plh['오프사이드'][i],\n",
    "        plh['슈팅'][i],\n",
    "        plh['파울'][i],\n",
    "        plh['실점'][i],\n",
    "        plh['경고'][i],\n",
    "        plh['퇴장'][i]\n",
    "    ]\n",
    "    QUERIES.append(insert_formatter(plh_table_name,datas))\n",
    "\n",
    "write_queries(\"Player previous league\")"
   ]
  }
 ],
 "metadata": {
  "kernelspec": {
   "display_name": "Python 3 (ipykernel)",
   "language": "python",
   "name": "python3"
  },
  "language_info": {
   "codemirror_mode": {
    "name": "ipython",
    "version": 3
   },
   "file_extension": ".py",
   "mimetype": "text/x-python",
   "name": "python",
   "nbconvert_exporter": "python",
   "pygments_lexer": "ipython3",
   "version": "3.9.12"
  }
 },
 "nbformat": 4,
 "nbformat_minor": 5
}
